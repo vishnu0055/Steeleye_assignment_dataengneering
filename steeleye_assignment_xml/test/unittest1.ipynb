{
 "cells": [
  {
   "cell_type": "code",
   "execution_count": 34,
   "id": "cff23824",
   "metadata": {},
   "outputs": [],
   "source": [
    "import traceback\n",
    "import requests\n",
    "import xml.etree.ElementTree as et\n",
    "import wget\n",
    "import zipfile"
   ]
  },
  {
   "cell_type": "code",
   "execution_count": 1,
   "id": "aaf56501",
   "metadata": {},
   "outputs": [],
   "source": [
    "def getdata():\n",
    "    url = \"https://registers.esma.europa.eu/solr/esma_registers_firds_files/select?q=*&fq=publication_date:%5B2021-01-17T00:00:00Z+TO+2021-01-19T23:59:59Z%5D&wt=xml\"\n",
    "    try:\n",
    "        r = requests.get(url)\n",
    "        with open('data.xml', 'w') as f:\n",
    "            f.write(r.text)\n",
    "        data = et.parse('data.xml')\n",
    "        return data\n",
    "    except:\n",
    "        print(\"Failed to parse xml from response (%s)\" % traceback.format_exc())"
   ]
  },
  {
   "cell_type": "code",
   "execution_count": 16,
   "id": "c6ad610b",
   "metadata": {},
   "outputs": [],
   "source": [
    "doc = getxml()"
   ]
  },
  {
   "cell_type": "code",
   "execution_count": 2,
   "id": "da0c02bc",
   "metadata": {},
   "outputs": [],
   "source": [
    "def getxmlfile(doc):\n",
    "    root = doc.getroot()\n",
    "    result = root.find(\"result\")\n",
    "    doc = list(result)"
   ]
  },
  {
   "cell_type": "code",
   "execution_count": 4,
   "id": "32371189",
   "metadata": {},
   "outputs": [
    {
     "ename": "NameError",
     "evalue": "name 'root' is not defined",
     "output_type": "error",
     "traceback": [
      "\u001b[1;31m---------------------------------------------------------------------------\u001b[0m",
      "\u001b[1;31mNameError\u001b[0m                                 Traceback (most recent call last)",
      "Cell \u001b[1;32mIn [4], line 1\u001b[0m\n\u001b[1;32m----> 1\u001b[0m result \u001b[38;5;241m=\u001b[39m root\u001b[38;5;241m.\u001b[39mfind(\u001b[38;5;124m\"\u001b[39m\u001b[38;5;124mresult\u001b[39m\u001b[38;5;124m\"\u001b[39m)\n\u001b[0;32m      2\u001b[0m doc \u001b[38;5;241m=\u001b[39m \u001b[38;5;28mlist\u001b[39m(result)[\u001b[38;5;241m0\u001b[39m]\n",
      "\u001b[1;31mNameError\u001b[0m: name 'root' is not defined"
     ]
    }
   ],
   "source": [
    "root = doc.getroot()\n",
    "result = root.find(\"result\")\n",
    "doc = list(result)[0]"
   ]
  },
  {
   "cell_type": "code",
   "execution_count": 21,
   "id": "ebe8626f",
   "metadata": {},
   "outputs": [],
   "source": [
    "url = list(doc)[1].text"
   ]
  },
  {
   "cell_type": "code",
   "execution_count": 29,
   "id": "aeb66861",
   "metadata": {},
   "outputs": [
    {
     "name": "stdout",
     "output_type": "stream",
     "text": [
      "100% [..........................................................................] 4434514 / 4434514"
     ]
    }
   ],
   "source": [
    "filename = wget.download(url)"
   ]
  },
  {
   "cell_type": "code",
   "execution_count": 30,
   "id": "faff2a84",
   "metadata": {},
   "outputs": [
    {
     "data": {
      "text/plain": [
       "'DLTINS_20210117_01of01.zip'"
      ]
     },
     "execution_count": 30,
     "metadata": {},
     "output_type": "execute_result"
    }
   ],
   "source": [
    "filename"
   ]
  },
  {
   "cell_type": "code",
   "execution_count": 35,
   "id": "7c49cf43",
   "metadata": {},
   "outputs": [
    {
     "name": "stdout",
     "output_type": "stream",
     "text": [
      "Downloading Completed\n"
     ]
    }
   ],
   "source": [
    "req = requests.get(url)\n",
    "print('Downloading Completed')\n",
    "zipfile= zipfile.ZipFile(filename)\n",
    "zipfile.extractall('../data/')"
   ]
  },
  {
   "cell_type": "code",
   "execution_count": null,
   "id": "b80fb444",
   "metadata": {},
   "outputs": [],
   "source": []
  }
 ],
 "metadata": {
  "kernelspec": {
   "display_name": "Python 3.10.0 64-bit",
   "language": "python",
   "name": "python3"
  },
  "language_info": {
   "codemirror_mode": {
    "name": "ipython",
    "version": 3
   },
   "file_extension": ".py",
   "mimetype": "text/x-python",
   "name": "python",
   "nbconvert_exporter": "python",
   "pygments_lexer": "ipython3",
   "version": "3.10.0"
  },
  "vscode": {
   "interpreter": {
    "hash": "4c2c3f571fd9835ecb4671100f0948db3b0fe978d43d251dc81320fcb94220f9"
   }
  }
 },
 "nbformat": 4,
 "nbformat_minor": 5
}
