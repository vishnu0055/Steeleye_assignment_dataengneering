{
 "cells": [
  {
   "cell_type": "code",
   "execution_count": 1,
   "id": "aca5ee24",
   "metadata": {},
   "outputs": [],
   "source": [
    "import xml.etree.ElementTree as et\n",
    "import os\n",
    "import pandas as pd"
   ]
  },
  {
   "cell_type": "code",
   "execution_count": 3,
   "id": "48591987",
   "metadata": {},
   "outputs": [],
   "source": [
    "doc = et.parse('../data/DLTINS_20210117_01of01.xml')"
   ]
  },
  {
   "cell_type": "code",
   "execution_count": 4,
   "id": "4279a312",
   "metadata": {},
   "outputs": [],
   "source": [
    "elemListFull = []"
   ]
  },
  {
   "cell_type": "code",
   "execution_count": 5,
   "id": "88a6873c",
   "metadata": {},
   "outputs": [],
   "source": [
    "for elem in doc.iter():\n",
    "    elemListFull.append(elem.tag)"
   ]
  },
  {
   "cell_type": "code",
   "execution_count": 6,
   "id": "85767ed6",
   "metadata": {},
   "outputs": [
    {
     "data": {
      "text/plain": [
       "4843818"
      ]
     },
     "execution_count": 6,
     "metadata": {},
     "output_type": "execute_result"
    }
   ],
   "source": [
    "len(elemListFull)"
   ]
  },
  {
   "cell_type": "code",
   "execution_count": 7,
   "id": "8655717b",
   "metadata": {},
   "outputs": [],
   "source": [
    "elemList = list(set(elemListFull))"
   ]
  },
  {
   "cell_type": "code",
   "execution_count": 8,
   "id": "556dee03",
   "metadata": {},
   "outputs": [
    {
     "data": {
      "text/plain": [
       "108"
      ]
     },
     "execution_count": 8,
     "metadata": {},
     "output_type": "execute_result"
    }
   ],
   "source": [
    "len(elemList)"
   ]
  },
  {
   "cell_type": "code",
   "execution_count": 9,
   "id": "d03b1624",
   "metadata": {},
   "outputs": [],
   "source": [
    "root = doc.getroot()"
   ]
  },
  {
   "cell_type": "code",
   "execution_count": 10,
   "id": "ffc71d14",
   "metadata": {},
   "outputs": [
    {
     "data": {
      "text/plain": [
       "{'{http://www.w3.org/2001/XMLSchema-instance}schemaLocation': 'urn:iso:std:iso:20022:tech:xsd:head.003.001.01 head.003.001.01.xsd'}"
      ]
     },
     "execution_count": 10,
     "metadata": {},
     "output_type": "execute_result"
    }
   ],
   "source": [
    "root.attrib"
   ]
  },
  {
   "cell_type": "code",
   "execution_count": 11,
   "id": "6386e813",
   "metadata": {},
   "outputs": [],
   "source": [
    "doc.find('Id')"
   ]
  },
  {
   "cell_type": "code",
   "execution_count": 12,
   "id": "c420befb",
   "metadata": {},
   "outputs": [],
   "source": [
    "elemNew = []"
   ]
  },
  {
   "cell_type": "code",
   "execution_count": 13,
   "id": "a116f875",
   "metadata": {},
   "outputs": [],
   "source": [
    "for elem in doc.iter():\n",
    "    elem.tag = elem.tag.split('}')[1]\n",
    "    elemNew.append(elem.tag)"
   ]
  },
  {
   "cell_type": "code",
   "execution_count": 14,
   "id": "a1f83a74",
   "metadata": {},
   "outputs": [],
   "source": [
    "txt = '{urn:iso:std:iso:20022:tech:xsd:head.003.001.01}Pyld'"
   ]
  },
  {
   "cell_type": "code",
   "execution_count": 15,
   "id": "35995ed5",
   "metadata": {},
   "outputs": [
    {
     "data": {
      "text/plain": [
       "'Pyld'"
      ]
     },
     "execution_count": 15,
     "metadata": {},
     "output_type": "execute_result"
    }
   ],
   "source": [
    "txt.split('}')[1]"
   ]
  },
  {
   "cell_type": "code",
   "execution_count": 16,
   "id": "908d4f0e",
   "metadata": {},
   "outputs": [
    {
     "data": {
      "text/plain": [
       "['BizData', 'Hdr', 'AppHdr', 'Fr', 'OrgId']"
      ]
     },
     "execution_count": 16,
     "metadata": {},
     "output_type": "execute_result"
    }
   ],
   "source": [
    "elemNew[:5]"
   ]
  },
  {
   "cell_type": "code",
   "execution_count": 17,
   "id": "8af6bd43",
   "metadata": {},
   "outputs": [],
   "source": [
    "doc.write(\"output.xml\")"
   ]
  },
  {
   "cell_type": "code",
   "execution_count": null,
   "id": "9b12f44f",
   "metadata": {},
   "outputs": [],
   "source": []
  }
 ],
 "metadata": {
  "kernelspec": {
   "display_name": "Python 3 (ipykernel)",
   "language": "python",
   "name": "python3"
  },
  "language_info": {
   "codemirror_mode": {
    "name": "ipython",
    "version": 3
   },
   "file_extension": ".py",
   "mimetype": "text/x-python",
   "name": "python",
   "nbconvert_exporter": "python",
   "pygments_lexer": "ipython3",
   "version": "3.9.7"
  }
 },
 "nbformat": 4,
 "nbformat_minor": 5
}
