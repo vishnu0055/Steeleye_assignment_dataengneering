{
 "cells": [
  {
   "cell_type": "code",
   "execution_count": 2,
   "id": "ba75a7f8",
   "metadata": {},
   "outputs": [],
   "source": [
    "import boto3\n",
    "import pandas as pd\n",
    "# AWS S3  bucket https://vishnu0055.s3.us-east-2.amazonaws.com/datasheet.csv"
   ]
  },
  {
   "cell_type": "code",
   "execution_count": 3,
   "id": "36550aa2",
   "metadata": {},
   "outputs": [],
   "source": [
    "s3 = boto3.resource(\n",
    "    service_name='s3',\n",
    "    region_name='us-east-2',\n",
    "    aws_access_key_id='************',\n",
    "    aws_secret_access_key='*********************'\n",
    ")"
   ]
  },
  {
   "cell_type": "code",
   "execution_count": 4,
   "id": "f7291d53",
   "metadata": {},
   "outputs": [
    {
     "name": "stdout",
     "output_type": "stream",
     "text": [
      "rohitest1\n"
     ]
    }
   ],
   "source": [
    "for bucket in s3.buckets.all():\n",
    "    print(bucket.name)"
   ]
  },
  {
   "cell_type": "code",
   "execution_count": 6,
   "id": "c4e54d49",
   "metadata": {},
   "outputs": [],
   "source": [
    "import os\n",
    "os.environ[\"AWS_DEFAULT_REGION\"] = 'us-east-2'\n",
    "os.environ[\"AWS_ACCESS_KEY_ID\"] = '************'\n",
    "os.environ[\"AWS_SECRET_ACCESS_KEY\"] = '*********************'"
   ]
  },
  {
   "cell_type": "code",
   "execution_count": 9,
   "id": "92fae6a1",
   "metadata": {},
   "outputs": [],
   "source": [
    "s3.Bucket('vishnu0055').upload_file(Filename='dataset.csv', Key='dataset.csv')"
   ]
  },
  {
   "cell_type": "code",
   "execution_count": null,
   "id": "4479fe1e",
   "metadata": {},
   "outputs": [],
   "source": []
  }
 ],
 "metadata": {
  "kernelspec": {
   "display_name": "Python 3.10.0 64-bit",
   "language": "python",
   "name": "python3"
  },
  "language_info": {
   "codemirror_mode": {
    "name": "ipython",
    "version": 3
   },
   "file_extension": ".py",
   "mimetype": "text/x-python",
   "name": "python",
   "nbconvert_exporter": "python",
   "pygments_lexer": "ipython3",
   "version": "3.10.0"
  },
  "vscode": {
   "interpreter": {
    "hash": "4c2c3f571fd9835ecb4671100f0948db3b0fe978d43d251dc81320fcb94220f9"
   }
  }
 },
 "nbformat": 4,
 "nbformat_minor": 5
}
